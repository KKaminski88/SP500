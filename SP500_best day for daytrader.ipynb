{
 "cells": [
  {
   "cell_type": "markdown",
   "metadata": {},
   "source": [
    "# Days of week volatility on SP500"
   ]
  },
  {
   "cell_type": "markdown",
   "metadata": {},
   "source": [
    "**Krzysztof Kamiński**"
   ]
  },
  {
   "cell_type": "markdown",
   "metadata": {},
   "source": [
    "In this project I want to find out which days of week are related with SP500 high volatility sessions. When I will find out I will calculate median price for outliers set and whole data set for a particular day of week."
   ]
  },
  {
   "cell_type": "code",
   "execution_count": 1,
   "metadata": {},
   "outputs": [],
   "source": [
    "# import pandas as a basic data frame libriary\n",
    "import pandas as pd"
   ]
  },
  {
   "cell_type": "markdown",
   "metadata": {},
   "source": [
    "We need to downoload SP500 data. I will use finance yahoo for this (https://finance.yahoo.com/quote/%5EGSPC/history?p=%5EGSPC). Starting date will be 14th of February 2000. End date is 12th of February 2021. Almost 21 years"
   ]
  },
  {
   "cell_type": "code",
   "execution_count": 2,
   "metadata": {},
   "outputs": [
    {
     "data": {
      "text/html": [
       "<div>\n",
       "<style scoped>\n",
       "    .dataframe tbody tr th:only-of-type {\n",
       "        vertical-align: middle;\n",
       "    }\n",
       "\n",
       "    .dataframe tbody tr th {\n",
       "        vertical-align: top;\n",
       "    }\n",
       "\n",
       "    .dataframe thead th {\n",
       "        text-align: right;\n",
       "    }\n",
       "</style>\n",
       "<table border=\"1\" class=\"dataframe\">\n",
       "  <thead>\n",
       "    <tr style=\"text-align: right;\">\n",
       "      <th></th>\n",
       "      <th>Date</th>\n",
       "      <th>Open</th>\n",
       "      <th>High</th>\n",
       "      <th>Low</th>\n",
       "      <th>Close</th>\n",
       "      <th>Adj Close</th>\n",
       "      <th>Volume</th>\n",
       "    </tr>\n",
       "  </thead>\n",
       "  <tbody>\n",
       "    <tr>\n",
       "      <th>0</th>\n",
       "      <td>2000-02-14</td>\n",
       "      <td>1387.119995</td>\n",
       "      <td>1394.930054</td>\n",
       "      <td>1380.530029</td>\n",
       "      <td>1389.939941</td>\n",
       "      <td>1389.939941</td>\n",
       "      <td>927300000</td>\n",
       "    </tr>\n",
       "    <tr>\n",
       "      <th>1</th>\n",
       "      <td>2000-02-15</td>\n",
       "      <td>1389.939941</td>\n",
       "      <td>1407.719971</td>\n",
       "      <td>1376.250000</td>\n",
       "      <td>1402.050049</td>\n",
       "      <td>1402.050049</td>\n",
       "      <td>1092100000</td>\n",
       "    </tr>\n",
       "    <tr>\n",
       "      <th>2</th>\n",
       "      <td>2000-02-16</td>\n",
       "      <td>1402.050049</td>\n",
       "      <td>1404.550049</td>\n",
       "      <td>1385.579956</td>\n",
       "      <td>1387.670044</td>\n",
       "      <td>1387.670044</td>\n",
       "      <td>1018800000</td>\n",
       "    </tr>\n",
       "    <tr>\n",
       "      <th>3</th>\n",
       "      <td>2000-02-17</td>\n",
       "      <td>1387.670044</td>\n",
       "      <td>1399.880005</td>\n",
       "      <td>1380.069946</td>\n",
       "      <td>1388.260010</td>\n",
       "      <td>1388.260010</td>\n",
       "      <td>1034800000</td>\n",
       "    </tr>\n",
       "    <tr>\n",
       "      <th>4</th>\n",
       "      <td>2000-02-18</td>\n",
       "      <td>1388.260010</td>\n",
       "      <td>1388.589966</td>\n",
       "      <td>1345.319946</td>\n",
       "      <td>1346.089966</td>\n",
       "      <td>1346.089966</td>\n",
       "      <td>1042300000</td>\n",
       "    </tr>\n",
       "  </tbody>\n",
       "</table>\n",
       "</div>"
      ],
      "text/plain": [
       "         Date         Open         High          Low        Close  \\\n",
       "0  2000-02-14  1387.119995  1394.930054  1380.530029  1389.939941   \n",
       "1  2000-02-15  1389.939941  1407.719971  1376.250000  1402.050049   \n",
       "2  2000-02-16  1402.050049  1404.550049  1385.579956  1387.670044   \n",
       "3  2000-02-17  1387.670044  1399.880005  1380.069946  1388.260010   \n",
       "4  2000-02-18  1388.260010  1388.589966  1345.319946  1346.089966   \n",
       "\n",
       "     Adj Close      Volume  \n",
       "0  1389.939941   927300000  \n",
       "1  1402.050049  1092100000  \n",
       "2  1387.670044  1018800000  \n",
       "3  1388.260010  1034800000  \n",
       "4  1346.089966  1042300000  "
      ]
     },
     "execution_count": 2,
     "metadata": {},
     "output_type": "execute_result"
    }
   ],
   "source": [
    "df = pd.read_csv('SP500.csv')\n",
    "df.head()"
   ]
  },
  {
   "cell_type": "code",
   "execution_count": 3,
   "metadata": {},
   "outputs": [],
   "source": [
    "#drop 'high', 'low', 'adj close' and 'volume'\n",
    "df = df.drop(columns=['High', 'Low', 'Adj Close', 'Volume'])"
   ]
  },
  {
   "cell_type": "code",
   "execution_count": 4,
   "metadata": {},
   "outputs": [
    {
     "data": {
      "text/html": [
       "<div>\n",
       "<style scoped>\n",
       "    .dataframe tbody tr th:only-of-type {\n",
       "        vertical-align: middle;\n",
       "    }\n",
       "\n",
       "    .dataframe tbody tr th {\n",
       "        vertical-align: top;\n",
       "    }\n",
       "\n",
       "    .dataframe thead th {\n",
       "        text-align: right;\n",
       "    }\n",
       "</style>\n",
       "<table border=\"1\" class=\"dataframe\">\n",
       "  <thead>\n",
       "    <tr style=\"text-align: right;\">\n",
       "      <th></th>\n",
       "      <th>Date</th>\n",
       "      <th>Open</th>\n",
       "      <th>Close</th>\n",
       "    </tr>\n",
       "  </thead>\n",
       "  <tbody>\n",
       "    <tr>\n",
       "      <th>0</th>\n",
       "      <td>2000-02-14</td>\n",
       "      <td>1387.119995</td>\n",
       "      <td>1389.939941</td>\n",
       "    </tr>\n",
       "    <tr>\n",
       "      <th>1</th>\n",
       "      <td>2000-02-15</td>\n",
       "      <td>1389.939941</td>\n",
       "      <td>1402.050049</td>\n",
       "    </tr>\n",
       "    <tr>\n",
       "      <th>2</th>\n",
       "      <td>2000-02-16</td>\n",
       "      <td>1402.050049</td>\n",
       "      <td>1387.670044</td>\n",
       "    </tr>\n",
       "    <tr>\n",
       "      <th>3</th>\n",
       "      <td>2000-02-17</td>\n",
       "      <td>1387.670044</td>\n",
       "      <td>1388.260010</td>\n",
       "    </tr>\n",
       "    <tr>\n",
       "      <th>4</th>\n",
       "      <td>2000-02-18</td>\n",
       "      <td>1388.260010</td>\n",
       "      <td>1346.089966</td>\n",
       "    </tr>\n",
       "  </tbody>\n",
       "</table>\n",
       "</div>"
      ],
      "text/plain": [
       "         Date         Open        Close\n",
       "0  2000-02-14  1387.119995  1389.939941\n",
       "1  2000-02-15  1389.939941  1402.050049\n",
       "2  2000-02-16  1402.050049  1387.670044\n",
       "3  2000-02-17  1387.670044  1388.260010\n",
       "4  2000-02-18  1388.260010  1346.089966"
      ]
     },
     "execution_count": 4,
     "metadata": {},
     "output_type": "execute_result"
    }
   ],
   "source": [
    "df.head()"
   ]
  },
  {
   "cell_type": "code",
   "execution_count": 5,
   "metadata": {},
   "outputs": [
    {
     "data": {
      "text/plain": [
       "(5284, 3)"
      ]
     },
     "execution_count": 5,
     "metadata": {},
     "output_type": "execute_result"
    }
   ],
   "source": [
    "#how much days are we talking about?\n",
    "df.shape"
   ]
  },
  {
   "cell_type": "code",
   "execution_count": 6,
   "metadata": {},
   "outputs": [],
   "source": [
    "#adding daily_return\n",
    "daily_return = (df['Close']/df['Open']-1)*100"
   ]
  },
  {
   "cell_type": "code",
   "execution_count": 7,
   "metadata": {},
   "outputs": [
    {
     "data": {
      "text/plain": [
       "0    0.203295\n",
       "1    0.871268\n",
       "2   -1.025641\n",
       "3    0.042515\n",
       "4   -3.037619\n",
       "dtype: float64"
      ]
     },
     "execution_count": 7,
     "metadata": {},
     "output_type": "execute_result"
    }
   ],
   "source": [
    "daily_return.head()"
   ]
  },
  {
   "cell_type": "code",
   "execution_count": 8,
   "metadata": {},
   "outputs": [],
   "source": [
    "df['Daily % return'] = daily_return"
   ]
  },
  {
   "cell_type": "code",
   "execution_count": 9,
   "metadata": {},
   "outputs": [
    {
     "data": {
      "text/html": [
       "<div>\n",
       "<style scoped>\n",
       "    .dataframe tbody tr th:only-of-type {\n",
       "        vertical-align: middle;\n",
       "    }\n",
       "\n",
       "    .dataframe tbody tr th {\n",
       "        vertical-align: top;\n",
       "    }\n",
       "\n",
       "    .dataframe thead th {\n",
       "        text-align: right;\n",
       "    }\n",
       "</style>\n",
       "<table border=\"1\" class=\"dataframe\">\n",
       "  <thead>\n",
       "    <tr style=\"text-align: right;\">\n",
       "      <th></th>\n",
       "      <th>Date</th>\n",
       "      <th>Open</th>\n",
       "      <th>Close</th>\n",
       "      <th>Daily % return</th>\n",
       "    </tr>\n",
       "  </thead>\n",
       "  <tbody>\n",
       "    <tr>\n",
       "      <th>0</th>\n",
       "      <td>2000-02-14</td>\n",
       "      <td>1387.119995</td>\n",
       "      <td>1389.939941</td>\n",
       "      <td>0.203295</td>\n",
       "    </tr>\n",
       "    <tr>\n",
       "      <th>1</th>\n",
       "      <td>2000-02-15</td>\n",
       "      <td>1389.939941</td>\n",
       "      <td>1402.050049</td>\n",
       "      <td>0.871268</td>\n",
       "    </tr>\n",
       "    <tr>\n",
       "      <th>2</th>\n",
       "      <td>2000-02-16</td>\n",
       "      <td>1402.050049</td>\n",
       "      <td>1387.670044</td>\n",
       "      <td>-1.025641</td>\n",
       "    </tr>\n",
       "    <tr>\n",
       "      <th>3</th>\n",
       "      <td>2000-02-17</td>\n",
       "      <td>1387.670044</td>\n",
       "      <td>1388.260010</td>\n",
       "      <td>0.042515</td>\n",
       "    </tr>\n",
       "    <tr>\n",
       "      <th>4</th>\n",
       "      <td>2000-02-18</td>\n",
       "      <td>1388.260010</td>\n",
       "      <td>1346.089966</td>\n",
       "      <td>-3.037619</td>\n",
       "    </tr>\n",
       "  </tbody>\n",
       "</table>\n",
       "</div>"
      ],
      "text/plain": [
       "         Date         Open        Close  Daily % return\n",
       "0  2000-02-14  1387.119995  1389.939941        0.203295\n",
       "1  2000-02-15  1389.939941  1402.050049        0.871268\n",
       "2  2000-02-16  1402.050049  1387.670044       -1.025641\n",
       "3  2000-02-17  1387.670044  1388.260010        0.042515\n",
       "4  2000-02-18  1388.260010  1346.089966       -3.037619"
      ]
     },
     "execution_count": 9,
     "metadata": {},
     "output_type": "execute_result"
    }
   ],
   "source": [
    "df.head()"
   ]
  },
  {
   "cell_type": "markdown",
   "metadata": {},
   "source": [
    "Now I want to visualize daily returns on plot chart. To do this I need to import matplotlib "
   ]
  },
  {
   "cell_type": "code",
   "execution_count": 10,
   "metadata": {},
   "outputs": [],
   "source": [
    "import matplotlib.pyplot as plt"
   ]
  },
  {
   "cell_type": "code",
   "execution_count": 11,
   "metadata": {
    "scrolled": true
   },
   "outputs": [
    {
     "data": {
      "text/plain": [
       "[<matplotlib.lines.Line2D at 0x14715bc3d30>]"
      ]
     },
     "execution_count": 11,
     "metadata": {},
     "output_type": "execute_result"
    },
    {
     "data": {
      "image/png": "[encoded data removed]",
      "text/plain": [
       "<Figure size 432x288 with 1 Axes>"
      ]
     },
     "metadata": {
      "needs_background": "light"
     },
     "output_type": "display_data"
    }
   ],
   "source": [
    "plt.plot(df['Date'], df['Daily % return'], 'ro')"
   ]
  },
  {
   "cell_type": "markdown",
   "metadata": {},
   "source": [
    "The largest distribution of daily returns is around 0-2%, which is quite not surprising. Indices rarely have higher daily returns."
   ]
  },
  {
   "cell_type": "markdown",
   "metadata": {},
   "source": [
    "# Time for adding days of week"
   ]
  },
  {
   "cell_type": "code",
   "execution_count": 12,
   "metadata": {},
   "outputs": [],
   "source": [
    "all_data = df['Date'][0:5284]"
   ]
  },
  {
   "cell_type": "code",
   "execution_count": 13,
   "metadata": {},
   "outputs": [],
   "source": [
    "#changing to datetime type so I could change it to days of week\n",
    "all_data = pd.to_datetime(all_data)"
   ]
  },
  {
   "cell_type": "code",
   "execution_count": 14,
   "metadata": {},
   "outputs": [
    {
     "data": {
      "text/plain": [
       "0   2000-02-14\n",
       "1   2000-02-15\n",
       "2   2000-02-16\n",
       "3   2000-02-17\n",
       "4   2000-02-18\n",
       "Name: Date, dtype: datetime64[ns]"
      ]
     },
     "execution_count": 14,
     "metadata": {},
     "output_type": "execute_result"
    }
   ],
   "source": [
    "all_data.head()"
   ]
  },
  {
   "cell_type": "code",
   "execution_count": 15,
   "metadata": {},
   "outputs": [],
   "source": [
    "#changing datetime values for days of week\n",
    "all_data = all_data.dt.dayofweek"
   ]
  },
  {
   "cell_type": "code",
   "execution_count": 16,
   "metadata": {},
   "outputs": [
    {
     "data": {
      "text/plain": [
       "0       0\n",
       "1       1\n",
       "2       2\n",
       "3       3\n",
       "4       4\n",
       "       ..\n",
       "5279    0\n",
       "5280    1\n",
       "5281    2\n",
       "5282    3\n",
       "5283    4\n",
       "Name: Date, Length: 5284, dtype: int64"
      ]
     },
     "execution_count": 16,
     "metadata": {},
     "output_type": "execute_result"
    }
   ],
   "source": [
    "all_data"
   ]
  },
  {
   "cell_type": "markdown",
   "metadata": {},
   "source": [
    "\"0\" stands for Monday and \"6\" for Sunday. For obvious reasons we will get values from 0 to 4"
   ]
  },
  {
   "cell_type": "code",
   "execution_count": 17,
   "metadata": {},
   "outputs": [],
   "source": [
    "#adding 'Day of week' column to data frame using create 'all_data'\n",
    "df['Day of week'] = all_data"
   ]
  },
  {
   "cell_type": "code",
   "execution_count": 18,
   "metadata": {},
   "outputs": [
    {
     "data": {
      "text/html": [
       "<div>\n",
       "<style scoped>\n",
       "    .dataframe tbody tr th:only-of-type {\n",
       "        vertical-align: middle;\n",
       "    }\n",
       "\n",
       "    .dataframe tbody tr th {\n",
       "        vertical-align: top;\n",
       "    }\n",
       "\n",
       "    .dataframe thead th {\n",
       "        text-align: right;\n",
       "    }\n",
       "</style>\n",
       "<table border=\"1\" class=\"dataframe\">\n",
       "  <thead>\n",
       "    <tr style=\"text-align: right;\">\n",
       "      <th></th>\n",
       "      <th>Date</th>\n",
       "      <th>Open</th>\n",
       "      <th>Close</th>\n",
       "      <th>Daily % return</th>\n",
       "      <th>Day of week</th>\n",
       "    </tr>\n",
       "  </thead>\n",
       "  <tbody>\n",
       "    <tr>\n",
       "      <th>0</th>\n",
       "      <td>2000-02-14</td>\n",
       "      <td>1387.119995</td>\n",
       "      <td>1389.939941</td>\n",
       "      <td>0.203295</td>\n",
       "      <td>0</td>\n",
       "    </tr>\n",
       "    <tr>\n",
       "      <th>1</th>\n",
       "      <td>2000-02-15</td>\n",
       "      <td>1389.939941</td>\n",
       "      <td>1402.050049</td>\n",
       "      <td>0.871268</td>\n",
       "      <td>1</td>\n",
       "    </tr>\n",
       "    <tr>\n",
       "      <th>2</th>\n",
       "      <td>2000-02-16</td>\n",
       "      <td>1402.050049</td>\n",
       "      <td>1387.670044</td>\n",
       "      <td>-1.025641</td>\n",
       "      <td>2</td>\n",
       "    </tr>\n",
       "    <tr>\n",
       "      <th>3</th>\n",
       "      <td>2000-02-17</td>\n",
       "      <td>1387.670044</td>\n",
       "      <td>1388.260010</td>\n",
       "      <td>0.042515</td>\n",
       "      <td>3</td>\n",
       "    </tr>\n",
       "    <tr>\n",
       "      <th>4</th>\n",
       "      <td>2000-02-18</td>\n",
       "      <td>1388.260010</td>\n",
       "      <td>1346.089966</td>\n",
       "      <td>-3.037619</td>\n",
       "      <td>4</td>\n",
       "    </tr>\n",
       "  </tbody>\n",
       "</table>\n",
       "</div>"
      ],
      "text/plain": [
       "         Date         Open        Close  Daily % return  Day of week\n",
       "0  2000-02-14  1387.119995  1389.939941        0.203295            0\n",
       "1  2000-02-15  1389.939941  1402.050049        0.871268            1\n",
       "2  2000-02-16  1402.050049  1387.670044       -1.025641            2\n",
       "3  2000-02-17  1387.670044  1388.260010        0.042515            3\n",
       "4  2000-02-18  1388.260010  1346.089966       -3.037619            4"
      ]
     },
     "execution_count": 18,
     "metadata": {},
     "output_type": "execute_result"
    }
   ],
   "source": [
    "df.head()"
   ]
  },
  {
   "cell_type": "code",
   "execution_count": 19,
   "metadata": {},
   "outputs": [
    {
     "data": {
      "text/html": [
       "<div>\n",
       "<style scoped>\n",
       "    .dataframe tbody tr th:only-of-type {\n",
       "        vertical-align: middle;\n",
       "    }\n",
       "\n",
       "    .dataframe tbody tr th {\n",
       "        vertical-align: top;\n",
       "    }\n",
       "\n",
       "    .dataframe thead th {\n",
       "        text-align: right;\n",
       "    }\n",
       "</style>\n",
       "<table border=\"1\" class=\"dataframe\">\n",
       "  <thead>\n",
       "    <tr style=\"text-align: right;\">\n",
       "      <th></th>\n",
       "      <th>Date</th>\n",
       "      <th>Open</th>\n",
       "      <th>Close</th>\n",
       "      <th>Daily % return</th>\n",
       "      <th>Day of week</th>\n",
       "    </tr>\n",
       "  </thead>\n",
       "  <tbody>\n",
       "    <tr>\n",
       "      <th>5279</th>\n",
       "      <td>2021-02-08</td>\n",
       "      <td>3892.590088</td>\n",
       "      <td>3915.590088</td>\n",
       "      <td>0.590866</td>\n",
       "      <td>0</td>\n",
       "    </tr>\n",
       "    <tr>\n",
       "      <th>5280</th>\n",
       "      <td>2021-02-09</td>\n",
       "      <td>3910.489990</td>\n",
       "      <td>3911.229980</td>\n",
       "      <td>0.018923</td>\n",
       "      <td>1</td>\n",
       "    </tr>\n",
       "    <tr>\n",
       "      <th>5281</th>\n",
       "      <td>2021-02-10</td>\n",
       "      <td>3920.780029</td>\n",
       "      <td>3909.879883</td>\n",
       "      <td>-0.278010</td>\n",
       "      <td>2</td>\n",
       "    </tr>\n",
       "    <tr>\n",
       "      <th>5282</th>\n",
       "      <td>2021-02-11</td>\n",
       "      <td>3916.399902</td>\n",
       "      <td>3916.379883</td>\n",
       "      <td>-0.000511</td>\n",
       "      <td>3</td>\n",
       "    </tr>\n",
       "    <tr>\n",
       "      <th>5283</th>\n",
       "      <td>2021-02-12</td>\n",
       "      <td>3911.649902</td>\n",
       "      <td>3934.830078</td>\n",
       "      <td>0.592593</td>\n",
       "      <td>4</td>\n",
       "    </tr>\n",
       "  </tbody>\n",
       "</table>\n",
       "</div>"
      ],
      "text/plain": [
       "            Date         Open        Close  Daily % return  Day of week\n",
       "5279  2021-02-08  3892.590088  3915.590088        0.590866            0\n",
       "5280  2021-02-09  3910.489990  3911.229980        0.018923            1\n",
       "5281  2021-02-10  3920.780029  3909.879883       -0.278010            2\n",
       "5282  2021-02-11  3916.399902  3916.379883       -0.000511            3\n",
       "5283  2021-02-12  3911.649902  3934.830078        0.592593            4"
      ]
     },
     "execution_count": 19,
     "metadata": {},
     "output_type": "execute_result"
    }
   ],
   "source": [
    "df.tail()"
   ]
  },
  {
   "cell_type": "code",
   "execution_count": 20,
   "metadata": {},
   "outputs": [],
   "source": [
    "#creating day_of_week variable based on 'Day of week' column\n",
    "day_of_week = df['Day of week']"
   ]
  },
  {
   "cell_type": "code",
   "execution_count": 21,
   "metadata": {},
   "outputs": [],
   "source": [
    "#changing integer to string type, so I could named days\n",
    "day_of_week = day_of_week.astype(str)"
   ]
  },
  {
   "cell_type": "code",
   "execution_count": 22,
   "metadata": {},
   "outputs": [],
   "source": [
    "# replacing numbers with days of week \n",
    "day_of_week = day_of_week.replace({\"0\":\"Monday\", \"1\":\"Tuesday\", \"2\": \"Wednesday\", \"3\":\"Thursday\", \"4\":\"Friday\"})"
   ]
  },
  {
   "cell_type": "code",
   "execution_count": 23,
   "metadata": {},
   "outputs": [
    {
     "data": {
      "text/plain": [
       "0          Monday\n",
       "1         Tuesday\n",
       "2       Wednesday\n",
       "3        Thursday\n",
       "4          Friday\n",
       "          ...    \n",
       "5279       Monday\n",
       "5280      Tuesday\n",
       "5281    Wednesday\n",
       "5282     Thursday\n",
       "5283       Friday\n",
       "Name: Day of week, Length: 5284, dtype: object"
      ]
     },
     "execution_count": 23,
     "metadata": {},
     "output_type": "execute_result"
    }
   ],
   "source": [
    "#change check\n",
    "day_of_week"
   ]
  },
  {
   "cell_type": "code",
   "execution_count": 24,
   "metadata": {},
   "outputs": [],
   "source": [
    "#adding column to data frame\n",
    "df['Day of week'] = day_of_week"
   ]
  },
  {
   "cell_type": "code",
   "execution_count": 25,
   "metadata": {},
   "outputs": [
    {
     "data": {
      "text/html": [
       "<div>\n",
       "<style scoped>\n",
       "    .dataframe tbody tr th:only-of-type {\n",
       "        vertical-align: middle;\n",
       "    }\n",
       "\n",
       "    .dataframe tbody tr th {\n",
       "        vertical-align: top;\n",
       "    }\n",
       "\n",
       "    .dataframe thead th {\n",
       "        text-align: right;\n",
       "    }\n",
       "</style>\n",
       "<table border=\"1\" class=\"dataframe\">\n",
       "  <thead>\n",
       "    <tr style=\"text-align: right;\">\n",
       "      <th></th>\n",
       "      <th>Date</th>\n",
       "      <th>Open</th>\n",
       "      <th>Close</th>\n",
       "      <th>Daily % return</th>\n",
       "      <th>Day of week</th>\n",
       "    </tr>\n",
       "  </thead>\n",
       "  <tbody>\n",
       "    <tr>\n",
       "      <th>0</th>\n",
       "      <td>2000-02-14</td>\n",
       "      <td>1387.119995</td>\n",
       "      <td>1389.939941</td>\n",
       "      <td>0.203295</td>\n",
       "      <td>Monday</td>\n",
       "    </tr>\n",
       "    <tr>\n",
       "      <th>1</th>\n",
       "      <td>2000-02-15</td>\n",
       "      <td>1389.939941</td>\n",
       "      <td>1402.050049</td>\n",
       "      <td>0.871268</td>\n",
       "      <td>Tuesday</td>\n",
       "    </tr>\n",
       "    <tr>\n",
       "      <th>2</th>\n",
       "      <td>2000-02-16</td>\n",
       "      <td>1402.050049</td>\n",
       "      <td>1387.670044</td>\n",
       "      <td>-1.025641</td>\n",
       "      <td>Wednesday</td>\n",
       "    </tr>\n",
       "    <tr>\n",
       "      <th>3</th>\n",
       "      <td>2000-02-17</td>\n",
       "      <td>1387.670044</td>\n",
       "      <td>1388.260010</td>\n",
       "      <td>0.042515</td>\n",
       "      <td>Thursday</td>\n",
       "    </tr>\n",
       "    <tr>\n",
       "      <th>4</th>\n",
       "      <td>2000-02-18</td>\n",
       "      <td>1388.260010</td>\n",
       "      <td>1346.089966</td>\n",
       "      <td>-3.037619</td>\n",
       "      <td>Friday</td>\n",
       "    </tr>\n",
       "  </tbody>\n",
       "</table>\n",
       "</div>"
      ],
      "text/plain": [
       "         Date         Open        Close  Daily % return Day of week\n",
       "0  2000-02-14  1387.119995  1389.939941        0.203295      Monday\n",
       "1  2000-02-15  1389.939941  1402.050049        0.871268     Tuesday\n",
       "2  2000-02-16  1402.050049  1387.670044       -1.025641   Wednesday\n",
       "3  2000-02-17  1387.670044  1388.260010        0.042515    Thursday\n",
       "4  2000-02-18  1388.260010  1346.089966       -3.037619      Friday"
      ]
     },
     "execution_count": 25,
     "metadata": {},
     "output_type": "execute_result"
    }
   ],
   "source": [
    "#showing first 5 rows of data frame\n",
    "df.head()"
   ]
  },
  {
   "cell_type": "code",
   "execution_count": 26,
   "metadata": {},
   "outputs": [
    {
     "data": {
      "text/html": [
       "<div>\n",
       "<style scoped>\n",
       "    .dataframe tbody tr th:only-of-type {\n",
       "        vertical-align: middle;\n",
       "    }\n",
       "\n",
       "    .dataframe tbody tr th {\n",
       "        vertical-align: top;\n",
       "    }\n",
       "\n",
       "    .dataframe thead th {\n",
       "        text-align: right;\n",
       "    }\n",
       "</style>\n",
       "<table border=\"1\" class=\"dataframe\">\n",
       "  <thead>\n",
       "    <tr style=\"text-align: right;\">\n",
       "      <th></th>\n",
       "      <th>Date</th>\n",
       "      <th>Open</th>\n",
       "      <th>Close</th>\n",
       "      <th>Daily % return</th>\n",
       "      <th>Day of week</th>\n",
       "    </tr>\n",
       "  </thead>\n",
       "  <tbody>\n",
       "    <tr>\n",
       "      <th>5279</th>\n",
       "      <td>2021-02-08</td>\n",
       "      <td>3892.590088</td>\n",
       "      <td>3915.590088</td>\n",
       "      <td>0.590866</td>\n",
       "      <td>Monday</td>\n",
       "    </tr>\n",
       "    <tr>\n",
       "      <th>5280</th>\n",
       "      <td>2021-02-09</td>\n",
       "      <td>3910.489990</td>\n",
       "      <td>3911.229980</td>\n",
       "      <td>0.018923</td>\n",
       "      <td>Tuesday</td>\n",
       "    </tr>\n",
       "    <tr>\n",
       "      <th>5281</th>\n",
       "      <td>2021-02-10</td>\n",
       "      <td>3920.780029</td>\n",
       "      <td>3909.879883</td>\n",
       "      <td>-0.278010</td>\n",
       "      <td>Wednesday</td>\n",
       "    </tr>\n",
       "    <tr>\n",
       "      <th>5282</th>\n",
       "      <td>2021-02-11</td>\n",
       "      <td>3916.399902</td>\n",
       "      <td>3916.379883</td>\n",
       "      <td>-0.000511</td>\n",
       "      <td>Thursday</td>\n",
       "    </tr>\n",
       "    <tr>\n",
       "      <th>5283</th>\n",
       "      <td>2021-02-12</td>\n",
       "      <td>3911.649902</td>\n",
       "      <td>3934.830078</td>\n",
       "      <td>0.592593</td>\n",
       "      <td>Friday</td>\n",
       "    </tr>\n",
       "  </tbody>\n",
       "</table>\n",
       "</div>"
      ],
      "text/plain": [
       "            Date         Open        Close  Daily % return Day of week\n",
       "5279  2021-02-08  3892.590088  3915.590088        0.590866      Monday\n",
       "5280  2021-02-09  3910.489990  3911.229980        0.018923     Tuesday\n",
       "5281  2021-02-10  3920.780029  3909.879883       -0.278010   Wednesday\n",
       "5282  2021-02-11  3916.399902  3916.379883       -0.000511    Thursday\n",
       "5283  2021-02-12  3911.649902  3934.830078        0.592593      Friday"
      ]
     },
     "execution_count": 26,
     "metadata": {},
     "output_type": "execute_result"
    }
   ],
   "source": [
    "#showing last 5 rows of data frame\n",
    "df.tail()"
   ]
  },
  {
   "cell_type": "code",
   "execution_count": 27,
   "metadata": {},
   "outputs": [],
   "source": [
    "#filtering list (above 2% daily return)\n",
    "dr_above2 = df[df['Daily % return'] >= 2.0]"
   ]
  },
  {
   "cell_type": "code",
   "execution_count": 28,
   "metadata": {
    "scrolled": false
   },
   "outputs": [
    {
     "data": {
      "text/plain": [
       "(174, 5)"
      ]
     },
     "execution_count": 28,
     "metadata": {},
     "output_type": "execute_result"
    }
   ],
   "source": [
    "dr_above2.shape"
   ]
  },
  {
   "cell_type": "code",
   "execution_count": 29,
   "metadata": {},
   "outputs": [],
   "source": [
    "#filtering list (below -2% daily return)\n",
    "dr_below_min_2 = df[df['Daily % return'] <= -2.0]"
   ]
  },
  {
   "cell_type": "code",
   "execution_count": 30,
   "metadata": {},
   "outputs": [
    {
     "data": {
      "text/plain": [
       "(205, 5)"
      ]
     },
     "execution_count": 30,
     "metadata": {},
     "output_type": "execute_result"
    }
   ],
   "source": [
    "dr_below_min_2.shape"
   ]
  },
  {
   "cell_type": "markdown",
   "metadata": {},
   "source": [
    "174 days with daily return above 2% and 205 days with daily return below -2%. This gives total of 379 days to check. It's around 7% of whole data set. "
   ]
  },
  {
   "cell_type": "code",
   "execution_count": 31,
   "metadata": {},
   "outputs": [],
   "source": [
    "df_new = dr_above2"
   ]
  },
  {
   "cell_type": "code",
   "execution_count": 32,
   "metadata": {},
   "outputs": [],
   "source": [
    "df_new2= dr_below_min_2"
   ]
  },
  {
   "cell_type": "code",
   "execution_count": 33,
   "metadata": {},
   "outputs": [],
   "source": [
    "#adding one list to another\n",
    "df_new = df_new.append(df_new2)"
   ]
  },
  {
   "cell_type": "code",
   "execution_count": 34,
   "metadata": {},
   "outputs": [
    {
     "data": {
      "text/html": [
       "<div>\n",
       "<style scoped>\n",
       "    .dataframe tbody tr th:only-of-type {\n",
       "        vertical-align: middle;\n",
       "    }\n",
       "\n",
       "    .dataframe tbody tr th {\n",
       "        vertical-align: top;\n",
       "    }\n",
       "\n",
       "    .dataframe thead th {\n",
       "        text-align: right;\n",
       "    }\n",
       "</style>\n",
       "<table border=\"1\" class=\"dataframe\">\n",
       "  <thead>\n",
       "    <tr style=\"text-align: right;\">\n",
       "      <th></th>\n",
       "      <th>Date</th>\n",
       "      <th>Open</th>\n",
       "      <th>Close</th>\n",
       "      <th>Daily % return</th>\n",
       "      <th>Day of week</th>\n",
       "    </tr>\n",
       "  </thead>\n",
       "  <tbody>\n",
       "    <tr>\n",
       "      <th>17</th>\n",
       "      <td>2000-03-09</td>\n",
       "      <td>1366.699951</td>\n",
       "      <td>1401.689941</td>\n",
       "      <td>2.560181</td>\n",
       "      <td>Thursday</td>\n",
       "    </tr>\n",
       "    <tr>\n",
       "      <th>21</th>\n",
       "      <td>2000-03-15</td>\n",
       "      <td>1359.150024</td>\n",
       "      <td>1392.140015</td>\n",
       "      <td>2.427252</td>\n",
       "      <td>Wednesday</td>\n",
       "    </tr>\n",
       "    <tr>\n",
       "      <th>22</th>\n",
       "      <td>2000-03-16</td>\n",
       "      <td>1392.150024</td>\n",
       "      <td>1458.469971</td>\n",
       "      <td>4.763851</td>\n",
       "      <td>Thursday</td>\n",
       "    </tr>\n",
       "    <tr>\n",
       "      <th>25</th>\n",
       "      <td>2000-03-21</td>\n",
       "      <td>1456.630005</td>\n",
       "      <td>1493.869995</td>\n",
       "      <td>2.556585</td>\n",
       "      <td>Tuesday</td>\n",
       "    </tr>\n",
       "    <tr>\n",
       "      <th>44</th>\n",
       "      <td>2000-04-17</td>\n",
       "      <td>1356.560059</td>\n",
       "      <td>1401.439941</td>\n",
       "      <td>3.308359</td>\n",
       "      <td>Monday</td>\n",
       "    </tr>\n",
       "    <tr>\n",
       "      <th>...</th>\n",
       "      <td>...</td>\n",
       "      <td>...</td>\n",
       "      <td>...</td>\n",
       "      <td>...</td>\n",
       "      <td>...</td>\n",
       "    </tr>\n",
       "    <tr>\n",
       "      <th>5172</th>\n",
       "      <td>2020-09-03</td>\n",
       "      <td>3564.739990</td>\n",
       "      <td>3455.060059</td>\n",
       "      <td>-3.076800</td>\n",
       "      <td>Thursday</td>\n",
       "    </tr>\n",
       "    <tr>\n",
       "      <th>5176</th>\n",
       "      <td>2020-09-10</td>\n",
       "      <td>3412.560059</td>\n",
       "      <td>3339.189941</td>\n",
       "      <td>-2.150002</td>\n",
       "      <td>Thursday</td>\n",
       "    </tr>\n",
       "    <tr>\n",
       "      <th>5185</th>\n",
       "      <td>2020-09-23</td>\n",
       "      <td>3320.110107</td>\n",
       "      <td>3236.919922</td>\n",
       "      <td>-2.505645</td>\n",
       "      <td>Wednesday</td>\n",
       "    </tr>\n",
       "    <tr>\n",
       "      <th>5210</th>\n",
       "      <td>2020-10-28</td>\n",
       "      <td>3342.479980</td>\n",
       "      <td>3271.030029</td>\n",
       "      <td>-2.137633</td>\n",
       "      <td>Wednesday</td>\n",
       "    </tr>\n",
       "    <tr>\n",
       "      <th>5271</th>\n",
       "      <td>2021-01-27</td>\n",
       "      <td>3836.830078</td>\n",
       "      <td>3750.770020</td>\n",
       "      <td>-2.242999</td>\n",
       "      <td>Wednesday</td>\n",
       "    </tr>\n",
       "  </tbody>\n",
       "</table>\n",
       "<p>379 rows × 5 columns</p>\n",
       "</div>"
      ],
      "text/plain": [
       "            Date         Open        Close  Daily % return Day of week\n",
       "17    2000-03-09  1366.699951  1401.689941        2.560181    Thursday\n",
       "21    2000-03-15  1359.150024  1392.140015        2.427252   Wednesday\n",
       "22    2000-03-16  1392.150024  1458.469971        4.763851    Thursday\n",
       "25    2000-03-21  1456.630005  1493.869995        2.556585     Tuesday\n",
       "44    2000-04-17  1356.560059  1401.439941        3.308359      Monday\n",
       "...          ...          ...          ...             ...         ...\n",
       "5172  2020-09-03  3564.739990  3455.060059       -3.076800    Thursday\n",
       "5176  2020-09-10  3412.560059  3339.189941       -2.150002    Thursday\n",
       "5185  2020-09-23  3320.110107  3236.919922       -2.505645   Wednesday\n",
       "5210  2020-10-28  3342.479980  3271.030029       -2.137633   Wednesday\n",
       "5271  2021-01-27  3836.830078  3750.770020       -2.242999   Wednesday\n",
       "\n",
       "[379 rows x 5 columns]"
      ]
     },
     "execution_count": 34,
     "metadata": {},
     "output_type": "execute_result"
    }
   ],
   "source": [
    "df_new"
   ]
  },
  {
   "cell_type": "code",
   "execution_count": 35,
   "metadata": {},
   "outputs": [],
   "source": [
    "#sorted by date\n",
    "df_new = df_new.sort_values(by=['Date'])"
   ]
  },
  {
   "cell_type": "code",
   "execution_count": 36,
   "metadata": {},
   "outputs": [
    {
     "data": {
      "text/html": [
       "<div>\n",
       "<style scoped>\n",
       "    .dataframe tbody tr th:only-of-type {\n",
       "        vertical-align: middle;\n",
       "    }\n",
       "\n",
       "    .dataframe tbody tr th {\n",
       "        vertical-align: top;\n",
       "    }\n",
       "\n",
       "    .dataframe thead th {\n",
       "        text-align: right;\n",
       "    }\n",
       "</style>\n",
       "<table border=\"1\" class=\"dataframe\">\n",
       "  <thead>\n",
       "    <tr style=\"text-align: right;\">\n",
       "      <th></th>\n",
       "      <th>Date</th>\n",
       "      <th>Open</th>\n",
       "      <th>Close</th>\n",
       "      <th>Daily % return</th>\n",
       "      <th>Day of week</th>\n",
       "    </tr>\n",
       "  </thead>\n",
       "  <tbody>\n",
       "    <tr>\n",
       "      <th>4</th>\n",
       "      <td>2000-02-18</td>\n",
       "      <td>1388.260010</td>\n",
       "      <td>1346.089966</td>\n",
       "      <td>-3.037619</td>\n",
       "      <td>Friday</td>\n",
       "    </tr>\n",
       "    <tr>\n",
       "      <th>15</th>\n",
       "      <td>2000-03-07</td>\n",
       "      <td>1391.280029</td>\n",
       "      <td>1355.619995</td>\n",
       "      <td>-2.563110</td>\n",
       "      <td>Tuesday</td>\n",
       "    </tr>\n",
       "    <tr>\n",
       "      <th>17</th>\n",
       "      <td>2000-03-09</td>\n",
       "      <td>1366.699951</td>\n",
       "      <td>1401.689941</td>\n",
       "      <td>2.560181</td>\n",
       "      <td>Thursday</td>\n",
       "    </tr>\n",
       "    <tr>\n",
       "      <th>21</th>\n",
       "      <td>2000-03-15</td>\n",
       "      <td>1359.150024</td>\n",
       "      <td>1392.140015</td>\n",
       "      <td>2.427252</td>\n",
       "      <td>Wednesday</td>\n",
       "    </tr>\n",
       "    <tr>\n",
       "      <th>22</th>\n",
       "      <td>2000-03-16</td>\n",
       "      <td>1392.150024</td>\n",
       "      <td>1458.469971</td>\n",
       "      <td>4.763851</td>\n",
       "      <td>Thursday</td>\n",
       "    </tr>\n",
       "    <tr>\n",
       "      <th>...</th>\n",
       "      <td>...</td>\n",
       "      <td>...</td>\n",
       "      <td>...</td>\n",
       "      <td>...</td>\n",
       "      <td>...</td>\n",
       "    </tr>\n",
       "    <tr>\n",
       "      <th>5172</th>\n",
       "      <td>2020-09-03</td>\n",
       "      <td>3564.739990</td>\n",
       "      <td>3455.060059</td>\n",
       "      <td>-3.076800</td>\n",
       "      <td>Thursday</td>\n",
       "    </tr>\n",
       "    <tr>\n",
       "      <th>5176</th>\n",
       "      <td>2020-09-10</td>\n",
       "      <td>3412.560059</td>\n",
       "      <td>3339.189941</td>\n",
       "      <td>-2.150002</td>\n",
       "      <td>Thursday</td>\n",
       "    </tr>\n",
       "    <tr>\n",
       "      <th>5185</th>\n",
       "      <td>2020-09-23</td>\n",
       "      <td>3320.110107</td>\n",
       "      <td>3236.919922</td>\n",
       "      <td>-2.505645</td>\n",
       "      <td>Wednesday</td>\n",
       "    </tr>\n",
       "    <tr>\n",
       "      <th>5210</th>\n",
       "      <td>2020-10-28</td>\n",
       "      <td>3342.479980</td>\n",
       "      <td>3271.030029</td>\n",
       "      <td>-2.137633</td>\n",
       "      <td>Wednesday</td>\n",
       "    </tr>\n",
       "    <tr>\n",
       "      <th>5271</th>\n",
       "      <td>2021-01-27</td>\n",
       "      <td>3836.830078</td>\n",
       "      <td>3750.770020</td>\n",
       "      <td>-2.242999</td>\n",
       "      <td>Wednesday</td>\n",
       "    </tr>\n",
       "  </tbody>\n",
       "</table>\n",
       "<p>379 rows × 5 columns</p>\n",
       "</div>"
      ],
      "text/plain": [
       "            Date         Open        Close  Daily % return Day of week\n",
       "4     2000-02-18  1388.260010  1346.089966       -3.037619      Friday\n",
       "15    2000-03-07  1391.280029  1355.619995       -2.563110     Tuesday\n",
       "17    2000-03-09  1366.699951  1401.689941        2.560181    Thursday\n",
       "21    2000-03-15  1359.150024  1392.140015        2.427252   Wednesday\n",
       "22    2000-03-16  1392.150024  1458.469971        4.763851    Thursday\n",
       "...          ...          ...          ...             ...         ...\n",
       "5172  2020-09-03  3564.739990  3455.060059       -3.076800    Thursday\n",
       "5176  2020-09-10  3412.560059  3339.189941       -2.150002    Thursday\n",
       "5185  2020-09-23  3320.110107  3236.919922       -2.505645   Wednesday\n",
       "5210  2020-10-28  3342.479980  3271.030029       -2.137633   Wednesday\n",
       "5271  2021-01-27  3836.830078  3750.770020       -2.242999   Wednesday\n",
       "\n",
       "[379 rows x 5 columns]"
      ]
     },
     "execution_count": 36,
     "metadata": {},
     "output_type": "execute_result"
    }
   ],
   "source": [
    "df_new"
   ]
  },
  {
   "cell_type": "code",
   "execution_count": 37,
   "metadata": {},
   "outputs": [],
   "source": [
    "df_Monday = df_new.loc[df_new['Day of week'] == 'Monday']"
   ]
  },
  {
   "cell_type": "code",
   "execution_count": 38,
   "metadata": {},
   "outputs": [
    {
     "data": {
      "text/plain": [
       "(69, 5)"
      ]
     },
     "execution_count": 38,
     "metadata": {},
     "output_type": "execute_result"
    }
   ],
   "source": [
    "df_Monday.shape"
   ]
  },
  {
   "cell_type": "code",
   "execution_count": 39,
   "metadata": {},
   "outputs": [],
   "source": [
    "df_Tuesday = df_new.loc[df_new['Day of week'] == 'Tuesday']"
   ]
  },
  {
   "cell_type": "code",
   "execution_count": 40,
   "metadata": {},
   "outputs": [
    {
     "data": {
      "text/plain": [
       "(83, 5)"
      ]
     },
     "execution_count": 40,
     "metadata": {},
     "output_type": "execute_result"
    }
   ],
   "source": [
    "df_Tuesday.shape"
   ]
  },
  {
   "cell_type": "code",
   "execution_count": 41,
   "metadata": {},
   "outputs": [],
   "source": [
    "df_Wednesday = df_new.loc[df_new['Day of week'] == 'Wednesday']"
   ]
  },
  {
   "cell_type": "code",
   "execution_count": 42,
   "metadata": {},
   "outputs": [
    {
     "data": {
      "text/plain": [
       "(78, 5)"
      ]
     },
     "execution_count": 42,
     "metadata": {},
     "output_type": "execute_result"
    }
   ],
   "source": [
    "df_Wednesday.shape"
   ]
  },
  {
   "cell_type": "code",
   "execution_count": 43,
   "metadata": {},
   "outputs": [],
   "source": [
    "df_Thursday = df_new.loc[df_new['Day of week'] == 'Thursday']"
   ]
  },
  {
   "cell_type": "code",
   "execution_count": 44,
   "metadata": {},
   "outputs": [
    {
     "data": {
      "text/plain": [
       "(86, 5)"
      ]
     },
     "execution_count": 44,
     "metadata": {},
     "output_type": "execute_result"
    }
   ],
   "source": [
    "df_Thursday.shape"
   ]
  },
  {
   "cell_type": "code",
   "execution_count": 45,
   "metadata": {},
   "outputs": [],
   "source": [
    "df_Friday = df_new.loc[df_new['Day of week'] == 'Friday']"
   ]
  },
  {
   "cell_type": "code",
   "execution_count": 46,
   "metadata": {},
   "outputs": [
    {
     "data": {
      "text/plain": [
       "(63, 5)"
      ]
     },
     "execution_count": 46,
     "metadata": {},
     "output_type": "execute_result"
    }
   ],
   "source": [
    "df_Friday.shape"
   ]
  },
  {
   "cell_type": "markdown",
   "metadata": {},
   "source": [
    "**Tuesday was the day when 83 times close was above +2% or below -2% during whole period. But thursday is the day where I noticed highest volatility (86 times close was above +2% or below -2%)**"
   ]
  },
  {
   "cell_type": "code",
   "execution_count": 47,
   "metadata": {},
   "outputs": [
    {
     "data": {
      "text/plain": [
       "Text(0.5, 1.0, 'Tuesday daily returns (outliers)')"
      ]
     },
     "execution_count": 47,
     "metadata": {},
     "output_type": "execute_result"
    },
    {
     "data": {
      "image/png": "[encoded data removed]",
      "text/plain": [
       "<Figure size 432x288 with 1 Axes>"
      ]
     },
     "metadata": {
      "needs_background": "light"
     },
     "output_type": "display_data"
    }
   ],
   "source": [
    "plt.plot(df_Tuesday['Date'], df_Tuesday['Daily % return'], 'b.')\n",
    "plt.title(\"Tuesday daily returns (outliers)\") "
   ]
  },
  {
   "cell_type": "code",
   "execution_count": 48,
   "metadata": {},
   "outputs": [],
   "source": [
    "#importing statistics to calucate median price\n",
    "import statistics"
   ]
  },
  {
   "cell_type": "code",
   "execution_count": 49,
   "metadata": {},
   "outputs": [],
   "source": [
    "dr_Tuesday= df_Tuesday['Daily % return']"
   ]
  },
  {
   "cell_type": "code",
   "execution_count": 50,
   "metadata": {},
   "outputs": [
    {
     "name": "stdout",
     "output_type": "stream",
     "text": [
      "Median price for Tuesday outliers is: 2.17 %\n"
     ]
    }
   ],
   "source": [
    "#calculating median price\n",
    "median_Tuesday_high_volatility = statistics.median(dr_Tuesday)\n",
    "#rounding to 2 decimal places\n",
    "median_Tuesday_high_volatility = round(median_Tuesday_high_volatility, 2)\n",
    "print(\"Median price for Tuesday outliers is:\", median_Tuesday_high_volatility,\"%\")"
   ]
  },
  {
   "cell_type": "code",
   "execution_count": 51,
   "metadata": {},
   "outputs": [
    {
     "data": {
      "text/plain": [
       "Text(0.5, 1.0, 'Thursday daily returns (outliers)')"
      ]
     },
     "execution_count": 51,
     "metadata": {},
     "output_type": "execute_result"
    },
    {
     "data": {
      "image/png": "[encoded data removed]",
      "text/plain": [
       "<Figure size 432x288 with 1 Axes>"
      ]
     },
     "metadata": {
      "needs_background": "light"
     },
     "output_type": "display_data"
    }
   ],
   "source": [
    "plt.plot(df_Thursday['Date'], df_Thursday['Daily % return'], 'b.')\n",
    "plt.title(\"Thursday daily returns (outliers)\") "
   ]
  },
  {
   "cell_type": "code",
   "execution_count": 52,
   "metadata": {},
   "outputs": [],
   "source": [
    "dr_Thursday= df_Thursday['Daily % return']"
   ]
  },
  {
   "cell_type": "code",
   "execution_count": 53,
   "metadata": {},
   "outputs": [
    {
     "name": "stdout",
     "output_type": "stream",
     "text": [
      "Median price for Thursday outliers is: -2.12 %\n"
     ]
    }
   ],
   "source": [
    "#calculating median price\n",
    "median_Thursday_high_volatility = statistics.median(dr_Thursday)\n",
    "#rounding to 2 decimal places\n",
    "median_Thursday_high_volatility = round(median_Thursday_high_volatility, 2)\n",
    "print(\"Median price for Thursday outliers is:\", median_Thursday_high_volatility,\"%\")"
   ]
  },
  {
   "cell_type": "markdown",
   "metadata": {},
   "source": [
    "# Let's compare values to whole data set for Tuesday and Thursday"
   ]
  },
  {
   "cell_type": "markdown",
   "metadata": {},
   "source": [
    "Tuesday first"
   ]
  },
  {
   "cell_type": "code",
   "execution_count": 54,
   "metadata": {},
   "outputs": [],
   "source": [
    "df_Tuesday_whole = df[df['Day of week'] == 'Tuesday']"
   ]
  },
  {
   "cell_type": "code",
   "execution_count": 55,
   "metadata": {},
   "outputs": [
    {
     "data": {
      "text/html": [
       "<div>\n",
       "<style scoped>\n",
       "    .dataframe tbody tr th:only-of-type {\n",
       "        vertical-align: middle;\n",
       "    }\n",
       "\n",
       "    .dataframe tbody tr th {\n",
       "        vertical-align: top;\n",
       "    }\n",
       "\n",
       "    .dataframe thead th {\n",
       "        text-align: right;\n",
       "    }\n",
       "</style>\n",
       "<table border=\"1\" class=\"dataframe\">\n",
       "  <thead>\n",
       "    <tr style=\"text-align: right;\">\n",
       "      <th></th>\n",
       "      <th>Date</th>\n",
       "      <th>Open</th>\n",
       "      <th>Close</th>\n",
       "      <th>Daily % return</th>\n",
       "      <th>Day of week</th>\n",
       "    </tr>\n",
       "  </thead>\n",
       "  <tbody>\n",
       "    <tr>\n",
       "      <th>1</th>\n",
       "      <td>2000-02-15</td>\n",
       "      <td>1389.939941</td>\n",
       "      <td>1402.050049</td>\n",
       "      <td>0.871268</td>\n",
       "      <td>Tuesday</td>\n",
       "    </tr>\n",
       "    <tr>\n",
       "      <th>5</th>\n",
       "      <td>2000-02-22</td>\n",
       "      <td>1346.089966</td>\n",
       "      <td>1352.170044</td>\n",
       "      <td>0.451684</td>\n",
       "      <td>Tuesday</td>\n",
       "    </tr>\n",
       "    <tr>\n",
       "      <th>10</th>\n",
       "      <td>2000-02-29</td>\n",
       "      <td>1348.050049</td>\n",
       "      <td>1366.420044</td>\n",
       "      <td>1.362709</td>\n",
       "      <td>Tuesday</td>\n",
       "    </tr>\n",
       "    <tr>\n",
       "      <th>15</th>\n",
       "      <td>2000-03-07</td>\n",
       "      <td>1391.280029</td>\n",
       "      <td>1355.619995</td>\n",
       "      <td>-2.563110</td>\n",
       "      <td>Tuesday</td>\n",
       "    </tr>\n",
       "    <tr>\n",
       "      <th>20</th>\n",
       "      <td>2000-03-14</td>\n",
       "      <td>1383.619995</td>\n",
       "      <td>1359.150024</td>\n",
       "      <td>-1.768547</td>\n",
       "      <td>Tuesday</td>\n",
       "    </tr>\n",
       "    <tr>\n",
       "      <th>...</th>\n",
       "      <td>...</td>\n",
       "      <td>...</td>\n",
       "      <td>...</td>\n",
       "      <td>...</td>\n",
       "      <td>...</td>\n",
       "    </tr>\n",
       "    <tr>\n",
       "      <th>5261</th>\n",
       "      <td>2021-01-12</td>\n",
       "      <td>3801.620117</td>\n",
       "      <td>3801.189941</td>\n",
       "      <td>-0.011316</td>\n",
       "      <td>Tuesday</td>\n",
       "    </tr>\n",
       "    <tr>\n",
       "      <th>5265</th>\n",
       "      <td>2021-01-19</td>\n",
       "      <td>3781.879883</td>\n",
       "      <td>3798.909912</td>\n",
       "      <td>0.450306</td>\n",
       "      <td>Tuesday</td>\n",
       "    </tr>\n",
       "    <tr>\n",
       "      <th>5270</th>\n",
       "      <td>2021-01-26</td>\n",
       "      <td>3862.959961</td>\n",
       "      <td>3849.620117</td>\n",
       "      <td>-0.345327</td>\n",
       "      <td>Tuesday</td>\n",
       "    </tr>\n",
       "    <tr>\n",
       "      <th>5275</th>\n",
       "      <td>2021-02-02</td>\n",
       "      <td>3791.840088</td>\n",
       "      <td>3826.310059</td>\n",
       "      <td>0.909057</td>\n",
       "      <td>Tuesday</td>\n",
       "    </tr>\n",
       "    <tr>\n",
       "      <th>5280</th>\n",
       "      <td>2021-02-09</td>\n",
       "      <td>3910.489990</td>\n",
       "      <td>3911.229980</td>\n",
       "      <td>0.018923</td>\n",
       "      <td>Tuesday</td>\n",
       "    </tr>\n",
       "  </tbody>\n",
       "</table>\n",
       "<p>1082 rows × 5 columns</p>\n",
       "</div>"
      ],
      "text/plain": [
       "            Date         Open        Close  Daily % return Day of week\n",
       "1     2000-02-15  1389.939941  1402.050049        0.871268     Tuesday\n",
       "5     2000-02-22  1346.089966  1352.170044        0.451684     Tuesday\n",
       "10    2000-02-29  1348.050049  1366.420044        1.362709     Tuesday\n",
       "15    2000-03-07  1391.280029  1355.619995       -2.563110     Tuesday\n",
       "20    2000-03-14  1383.619995  1359.150024       -1.768547     Tuesday\n",
       "...          ...          ...          ...             ...         ...\n",
       "5261  2021-01-12  3801.620117  3801.189941       -0.011316     Tuesday\n",
       "5265  2021-01-19  3781.879883  3798.909912        0.450306     Tuesday\n",
       "5270  2021-01-26  3862.959961  3849.620117       -0.345327     Tuesday\n",
       "5275  2021-02-02  3791.840088  3826.310059        0.909057     Tuesday\n",
       "5280  2021-02-09  3910.489990  3911.229980        0.018923     Tuesday\n",
       "\n",
       "[1082 rows x 5 columns]"
      ]
     },
     "execution_count": 55,
     "metadata": {},
     "output_type": "execute_result"
    }
   ],
   "source": [
    "df_Tuesday_whole"
   ]
  },
  {
   "cell_type": "code",
   "execution_count": 56,
   "metadata": {},
   "outputs": [
    {
     "data": {
      "text/plain": [
       "[<matplotlib.lines.Line2D at 0x1471c9d9940>]"
      ]
     },
     "execution_count": 56,
     "metadata": {},
     "output_type": "execute_result"
    },
    {
     "data": {
      "image/png": "[encoded data removed]",
      "text/plain": [
       "<Figure size 432x288 with 1 Axes>"
      ]
     },
     "metadata": {
      "needs_background": "light"
     },
     "output_type": "display_data"
    }
   ],
   "source": [
    "plt.plot(df_Tuesday_whole['Date'], df_Tuesday_whole['Daily % return'], 'b.')"
   ]
  },
  {
   "cell_type": "code",
   "execution_count": 57,
   "metadata": {
    "scrolled": true
   },
   "outputs": [
    {
     "data": {
      "text/plain": [
       "1       0.871268\n",
       "5       0.451684\n",
       "10      1.362709\n",
       "15     -2.563110\n",
       "20     -1.768547\n",
       "          ...   \n",
       "5261   -0.011316\n",
       "5265    0.450306\n",
       "5270   -0.345327\n",
       "5275    0.909057\n",
       "5280    0.018923\n",
       "Name: Daily % return, Length: 1082, dtype: float64"
      ]
     },
     "execution_count": 57,
     "metadata": {},
     "output_type": "execute_result"
    }
   ],
   "source": [
    "df_Tuesday_whole['Daily % return']"
   ]
  },
  {
   "cell_type": "code",
   "execution_count": 58,
   "metadata": {},
   "outputs": [],
   "source": [
    "daily_return_Tuesday = df_Tuesday_whole['Daily % return']"
   ]
  },
  {
   "cell_type": "code",
   "execution_count": 59,
   "metadata": {},
   "outputs": [
    {
     "name": "stdout",
     "output_type": "stream",
     "text": [
      "Median price for Tuesday is: 0.04 %\n"
     ]
    }
   ],
   "source": [
    "#calculating median price\n",
    "median_Tuesday = statistics.median(daily_return_Tuesday)\n",
    "#rounding to 2 decimal places\n",
    "median_Tuesday = round(median_Tuesday, 2)\n",
    "print(\"Median price for Tuesday is:\", median_Tuesday,\"%\")"
   ]
  },
  {
   "cell_type": "markdown",
   "metadata": {},
   "source": [
    "Time to check Thursday"
   ]
  },
  {
   "cell_type": "code",
   "execution_count": 60,
   "metadata": {},
   "outputs": [],
   "source": [
    "df_Thursday_whole = df[df['Day of week'] == 'Thursday']"
   ]
  },
  {
   "cell_type": "code",
   "execution_count": 61,
   "metadata": {},
   "outputs": [
    {
     "data": {
      "text/html": [
       "<div>\n",
       "<style scoped>\n",
       "    .dataframe tbody tr th:only-of-type {\n",
       "        vertical-align: middle;\n",
       "    }\n",
       "\n",
       "    .dataframe tbody tr th {\n",
       "        vertical-align: top;\n",
       "    }\n",
       "\n",
       "    .dataframe thead th {\n",
       "        text-align: right;\n",
       "    }\n",
       "</style>\n",
       "<table border=\"1\" class=\"dataframe\">\n",
       "  <thead>\n",
       "    <tr style=\"text-align: right;\">\n",
       "      <th></th>\n",
       "      <th>Date</th>\n",
       "      <th>Open</th>\n",
       "      <th>Close</th>\n",
       "      <th>Daily % return</th>\n",
       "      <th>Day of week</th>\n",
       "    </tr>\n",
       "  </thead>\n",
       "  <tbody>\n",
       "    <tr>\n",
       "      <th>3</th>\n",
       "      <td>2000-02-17</td>\n",
       "      <td>1387.670044</td>\n",
       "      <td>1388.260010</td>\n",
       "      <td>0.042515</td>\n",
       "      <td>Thursday</td>\n",
       "    </tr>\n",
       "    <tr>\n",
       "      <th>7</th>\n",
       "      <td>2000-02-24</td>\n",
       "      <td>1360.689941</td>\n",
       "      <td>1353.430054</td>\n",
       "      <td>-0.533545</td>\n",
       "      <td>Thursday</td>\n",
       "    </tr>\n",
       "    <tr>\n",
       "      <th>12</th>\n",
       "      <td>2000-03-02</td>\n",
       "      <td>1379.189941</td>\n",
       "      <td>1381.760010</td>\n",
       "      <td>0.186346</td>\n",
       "      <td>Thursday</td>\n",
       "    </tr>\n",
       "    <tr>\n",
       "      <th>17</th>\n",
       "      <td>2000-03-09</td>\n",
       "      <td>1366.699951</td>\n",
       "      <td>1401.689941</td>\n",
       "      <td>2.560181</td>\n",
       "      <td>Thursday</td>\n",
       "    </tr>\n",
       "    <tr>\n",
       "      <th>22</th>\n",
       "      <td>2000-03-16</td>\n",
       "      <td>1392.150024</td>\n",
       "      <td>1458.469971</td>\n",
       "      <td>4.763851</td>\n",
       "      <td>Thursday</td>\n",
       "    </tr>\n",
       "    <tr>\n",
       "      <th>...</th>\n",
       "      <td>...</td>\n",
       "      <td>...</td>\n",
       "      <td>...</td>\n",
       "      <td>...</td>\n",
       "      <td>...</td>\n",
       "    </tr>\n",
       "    <tr>\n",
       "      <th>5263</th>\n",
       "      <td>2021-01-14</td>\n",
       "      <td>3814.979980</td>\n",
       "      <td>3795.540039</td>\n",
       "      <td>-0.509569</td>\n",
       "      <td>Thursday</td>\n",
       "    </tr>\n",
       "    <tr>\n",
       "      <th>5267</th>\n",
       "      <td>2021-01-21</td>\n",
       "      <td>3857.459961</td>\n",
       "      <td>3853.070068</td>\n",
       "      <td>-0.113803</td>\n",
       "      <td>Thursday</td>\n",
       "    </tr>\n",
       "    <tr>\n",
       "      <th>5272</th>\n",
       "      <td>2021-01-28</td>\n",
       "      <td>3755.750000</td>\n",
       "      <td>3787.379883</td>\n",
       "      <td>0.842172</td>\n",
       "      <td>Thursday</td>\n",
       "    </tr>\n",
       "    <tr>\n",
       "      <th>5277</th>\n",
       "      <td>2021-02-04</td>\n",
       "      <td>3836.659912</td>\n",
       "      <td>3871.739990</td>\n",
       "      <td>0.914339</td>\n",
       "      <td>Thursday</td>\n",
       "    </tr>\n",
       "    <tr>\n",
       "      <th>5282</th>\n",
       "      <td>2021-02-11</td>\n",
       "      <td>3916.399902</td>\n",
       "      <td>3916.379883</td>\n",
       "      <td>-0.000511</td>\n",
       "      <td>Thursday</td>\n",
       "    </tr>\n",
       "  </tbody>\n",
       "</table>\n",
       "<p>1065 rows × 5 columns</p>\n",
       "</div>"
      ],
      "text/plain": [
       "            Date         Open        Close  Daily % return Day of week\n",
       "3     2000-02-17  1387.670044  1388.260010        0.042515    Thursday\n",
       "7     2000-02-24  1360.689941  1353.430054       -0.533545    Thursday\n",
       "12    2000-03-02  1379.189941  1381.760010        0.186346    Thursday\n",
       "17    2000-03-09  1366.699951  1401.689941        2.560181    Thursday\n",
       "22    2000-03-16  1392.150024  1458.469971        4.763851    Thursday\n",
       "...          ...          ...          ...             ...         ...\n",
       "5263  2021-01-14  3814.979980  3795.540039       -0.509569    Thursday\n",
       "5267  2021-01-21  3857.459961  3853.070068       -0.113803    Thursday\n",
       "5272  2021-01-28  3755.750000  3787.379883        0.842172    Thursday\n",
       "5277  2021-02-04  3836.659912  3871.739990        0.914339    Thursday\n",
       "5282  2021-02-11  3916.399902  3916.379883       -0.000511    Thursday\n",
       "\n",
       "[1065 rows x 5 columns]"
      ]
     },
     "execution_count": 61,
     "metadata": {},
     "output_type": "execute_result"
    }
   ],
   "source": [
    "df_Thursday_whole"
   ]
  },
  {
   "cell_type": "code",
   "execution_count": 62,
   "metadata": {},
   "outputs": [
    {
     "data": {
      "text/plain": [
       "[<matplotlib.lines.Line2D at 0x1471deda460>]"
      ]
     },
     "execution_count": 62,
     "metadata": {},
     "output_type": "execute_result"
    },
    {
     "data": {
      "image/png": "[encoded data removed]",
      "text/plain": [
       "<Figure size 432x288 with 1 Axes>"
      ]
     },
     "metadata": {
      "needs_background": "light"
     },
     "output_type": "display_data"
    }
   ],
   "source": [
    "plt.plot(df_Thursday_whole['Date'], df_Thursday_whole['Daily % return'], 'b.')"
   ]
  },
  {
   "cell_type": "code",
   "execution_count": 63,
   "metadata": {},
   "outputs": [],
   "source": [
    "daily_return_Thursday = df_Thursday_whole['Daily % return']"
   ]
  },
  {
   "cell_type": "code",
   "execution_count": 64,
   "metadata": {},
   "outputs": [
    {
     "name": "stdout",
     "output_type": "stream",
     "text": [
      "Median price for Thursday is: 0.09 %\n"
     ]
    }
   ],
   "source": [
    "#calculating median price\n",
    "median_Thursday = statistics.median(daily_return_Thursday)\n",
    "#rounding to 2 decimal places\n",
    "median_Thursday = round(median_Thursday, 2)\n",
    "print(\"Median price for Thursday is:\", median_Thursday,\"%\")"
   ]
  },
  {
   "cell_type": "markdown",
   "metadata": {},
   "source": [
    "# Conclucions:"
   ]
  },
  {
   "cell_type": "markdown",
   "metadata": {},
   "source": [
    "The most volitiles days of week for SP500 are Tuesday and Thursday. Median prices shows that Tuesday outliers returns a positive value. Checking Tuesday returns for last 21 years confirms that. Median price for Thursday all data set shows that median price is twice as big as Tuesdays median. However looking at Thursday outliers median we can notice that it is negative. Therefore, we might be tempted for conclusion that average Thursday sessions are positive, but if there will be a high variation of price in Wall street session (above 2%), there is a high chance that SP500 will end day with huge minus."
   ]
  },
  {
   "cell_type": "markdown",
   "metadata": {},
   "source": [
    "**Ofcourse past results don't guarantee the same results in future. Main target of this project was to filter possible best day of week, for daytrading strategy.**"
   ]
  }
 ],
 "metadata": {
  "kernelspec": {
   "display_name": "Python 3",
   "language": "python",
   "name": "python3"
  },
  "language_info": {
   "codemirror_mode": {
    "name": "ipython",
    "version": 3
   },
   "file_extension": ".py",
   "mimetype": "text/x-python",
   "name": "python",
   "nbconvert_exporter": "python",
   "pygments_lexer": "ipython3",
   "version": "3.8.5"
  }
 },
 "nbformat": 4,
 "nbformat_minor": 4
}
